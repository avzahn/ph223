{
 "cells": [
  {
   "cell_type": "code",
   "execution_count": 1,
   "metadata": {
    "collapsed": true
   },
   "outputs": [],
   "source": [
    "import numpy as np\n",
    "\n",
    "def L(A1,A2,Z1,Z2,S,T):\n",
    "    \n",
    "    k = 1.38e-16\n",
    "    \n",
    "    tau = 3 * e0 / (k*T)\n",
    "    A = A1*A2/float(A1+A2)\n",
    "\n",
    "    return (S * .72e-18 * np.exp(-tau) * tau**2)/(A*Z1*Z2)"
   ]
  },
  {
   "cell_type": "code",
   "execution_count": null,
   "metadata": {
    "collapsed": true
   },
   "outputs": [],
   "source": []
  },
  {
   "cell_type": "code",
   "execution_count": 2,
   "metadata": {
    "collapsed": false
   },
   "outputs": [],
   "source": [
    "def he_flash(T0,rho,Y,dt,m=1.):\n",
    "    \n",
    "    mp = 1.672e-24\n",
    "    me = 9.109e-28\n",
    "    k = 1.38e-16\n",
    "    c = 3e10\n",
    "    hb = 1.0546e-27\n",
    "    pi = np.pi\n",
    "    \n",
    "    #V = m/rho\n",
    "    #N = m / (6.646e-24)\n",
    "    #Ef = ( hb**2 / (2*me) ) * (  3* pi*pi *N /V)**(2./3.) \n",
    "    #x = np.sqrt(2*me*Ef) / (me *c)\n",
    "    \n",
    "    x = (rho/2e6)**(1./3)\n",
    "    \n",
    "    print x\n",
    "    print (1e-8 * T0**1.5)\n",
    "    \n",
    "    T=T0\n",
    "    t = 0\n",
    "    _T = []\n",
    "    _t = []\n",
    "    _cv = []\n",
    "    _dE = []\n",
    "    \n",
    "    try:\n",
    "    \n",
    "        while rho > (1e-8 * T**1.5):\n",
    "\n",
    "            cv_e = 1.35e5 * T * x * np.sqrt((1+x*x)) / rho\n",
    "            cv_he = 3*k/(4*mp)\n",
    "\n",
    "            cv = cv_e + cv_he\n",
    "\n",
    "            T9 = T*1e-9\n",
    "\n",
    "            dE = dt * m * 5.1e8 * rho**2 * Y**3 *np.exp(-4.4027/T9) / T9**3 \n",
    "\n",
    "            dT = dE/(m*cv)\n",
    "\n",
    "            _T.append(T)\n",
    "            _t.append(t)\n",
    "            _cv.append(cv)\n",
    "            _dE.append(dE)\n",
    "\n",
    "            T += dT\n",
    "            t += dt\n",
    "                       \n",
    "    \n",
    "    except:\n",
    "        pass\n",
    "        \n",
    "    return np.array(_t), np.array(_cv), np.array(_dE), np.array(_T)\n"
   ]
  },
  {
   "cell_type": "code",
   "execution_count": 3,
   "metadata": {
    "collapsed": false
   },
   "outputs": [
    {
     "name": "stdout",
     "output_type": "stream",
     "text": [
      "Using matplotlib backend: Qt4Agg\n",
      "Populating the interactive namespace from numpy and matplotlib\n"
     ]
    }
   ],
   "source": [
    "%pylab"
   ]
  },
  {
   "cell_type": "code",
   "execution_count": 12,
   "metadata": {
    "collapsed": false
   },
   "outputs": [
    {
     "name": "stdout",
     "output_type": "stream",
     "text": [
      "0.464158883361\n",
      "18371.1730709\n"
     ]
    }
   ],
   "source": [
    "t,cv,dE,T = he_flash(T0=1.5e8,rho=2e5,Y=.25,dt=100)"
   ]
  },
  {
   "cell_type": "code",
   "execution_count": 18,
   "metadata": {
    "collapsed": false
   },
   "outputs": [
    {
     "data": {
      "text/plain": [
       "[<matplotlib.lines.Line2D at 0xbb7f400>]"
      ]
     },
     "execution_count": 18,
     "metadata": {},
     "output_type": "execute_result"
    }
   ],
   "source": [
    "xlabel('t Days')\n",
    "ylabel(' T Kelvin')\n",
    "grid(True)\n",
    "plot(t/(24*3600.),T,linewidth=2)"
   ]
  },
  {
   "cell_type": "code",
   "execution_count": 19,
   "metadata": {
    "collapsed": false
   },
   "outputs": [
    {
     "data": {
      "text/plain": [
       "[<matplotlib.lines.Line2D at 0x10d93208>]"
      ]
     },
     "execution_count": 19,
     "metadata": {},
     "output_type": "execute_result"
    }
   ],
   "source": [
    "plot(t/(24*3600.),cv,linewidth=2)"
   ]
  },
  {
   "cell_type": "code",
   "execution_count": 40,
   "metadata": {
    "collapsed": false
   },
   "outputs": [
    {
     "data": {
      "text/plain": [
       "1428451"
      ]
     },
     "execution_count": 40,
     "metadata": {},
     "output_type": "execute_result"
    }
   ],
   "source": [
    "len(T)"
   ]
  },
  {
   "cell_type": "code",
   "execution_count": 32,
   "metadata": {
    "collapsed": false
   },
   "outputs": [
    {
     "data": {
      "text/plain": [
       "[<matplotlib.lines.Line2D at 0x1113c8d0>]"
      ]
     },
     "execution_count": 32,
     "metadata": {},
     "output_type": "execute_result"
    }
   ],
   "source": [
    "plot(t,dE)"
   ]
  },
  {
   "cell_type": "code",
   "execution_count": 11,
   "metadata": {
    "collapsed": false
   },
   "outputs": [
    {
     "data": {
      "text/plain": [
       "[<matplotlib.lines.Line2D at 0xc4fb518>]"
      ]
     },
     "execution_count": 11,
     "metadata": {},
     "output_type": "execute_result"
    }
   ],
   "source": [
    "plot(t,1e-8*T**1.5)"
   ]
  },
  {
   "cell_type": "code",
   "execution_count": null,
   "metadata": {
    "collapsed": true
   },
   "outputs": [],
   "source": []
  }
 ],
 "metadata": {
  "kernelspec": {
   "display_name": "Python 2",
   "language": "python",
   "name": "python2"
  },
  "language_info": {
   "codemirror_mode": {
    "name": "ipython",
    "version": 2
   },
   "file_extension": ".py",
   "mimetype": "text/x-python",
   "name": "python",
   "nbconvert_exporter": "python",
   "pygments_lexer": "ipython2",
   "version": "2.7.10"
  }
 },
 "nbformat": 4,
 "nbformat_minor": 0
}
