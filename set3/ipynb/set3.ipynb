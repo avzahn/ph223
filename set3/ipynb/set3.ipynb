{
 "cells": [
  {
   "cell_type": "code",
   "execution_count": 58,
   "metadata": {
    "collapsed": false
   },
   "outputs": [
    {
     "name": "stdout",
     "output_type": "stream",
     "text": [
      "Populating the interactive namespace from numpy and matplotlib\n"
     ]
    }
   ],
   "source": [
    "%pylab inline"
   ]
  },
  {
   "cell_type": "markdown",
   "metadata": {},
   "source": [
    "## PPI Equilibrium Abundances"
   ]
  },
  {
   "cell_type": "code",
   "execution_count": 40,
   "metadata": {
    "collapsed": true
   },
   "outputs": [],
   "source": [
    "import numpy as np\n",
    "\n",
    "def L(A1,A2,Z1,Z2,S,T):\n",
    "    \"\"\"\n",
    "    No good, lots of numerical overflow\n",
    "    \"\"\"\n",
    "    k = 1.38e-16\n",
    "    A = A1*A2/float(A1+A2)\n",
    "    \n",
    "    e0 = 1.22 * (Z1**2 * Z2**2 * A * (T*1e-6)**2)**(1./3)\n",
    "        \n",
    "    tau = 3 * e0 / (k*T)\n",
    "    \n",
    "    return (S * .72e-18 * np.exp(-tau) * tau**2)/(A*Z1*Z2)"
   ]
  },
  {
   "cell_type": "code",
   "execution_count": 41,
   "metadata": {
    "collapsed": false
   },
   "outputs": [
    {
     "name": "stderr",
     "output_type": "stream",
     "text": [
      "C:\\Users\\alex\\Anaconda\\lib\\site-packages\\ipykernel\\__main__.py:1: RuntimeWarning: invalid value encountered in double_scalars\n",
      "  if __name__ == '__main__':\n"
     ]
    },
    {
     "data": {
      "text/plain": [
       "nan"
      ]
     },
     "execution_count": 41,
     "metadata": {},
     "output_type": "execute_result"
    }
   ],
   "source": [
    "L( 1.,1.,1.,1., 3.8e-22, 1.5e7) / (2*L( 2.,1.,1.,1., 2.5e-4 ,1.5e7 # bad"
   ]
  },
  {
   "cell_type": "code",
   "execution_count": 45,
   "metadata": {
    "collapsed": false
   },
   "outputs": [
    {
     "data": {
      "text/plain": [
       "0.0"
      ]
     },
     "execution_count": 45,
     "metadata": {},
     "output_type": "execute_result"
    }
   ],
   "source": [
    "def tau(A1,A2,Z1,Z2,T):\n",
    "    k = 1.38e-16\n",
    "    A = A1*A2/float(A1+A2)\n",
    "    e0 = 1.22 * (Z1**2 * Z2**2 * A * (T*1e-6)**2)**(1./3)\n",
    "    return 3 * e0 / (k*T)\n",
    "\n",
    "k = 1.38e-16\n",
    "T = 1.5e7\n",
    "t1 = tau(1,1,1,1,T)\n",
    "t2 = tau(1,2,1,1,T)\n",
    "S1 = 3.8e-22\n",
    "S2 = 2.5e-4\n",
    "\n",
    "(t1/t2)**2 * (S1/(2*S2)) * np.exp(-(t1+t2)/(k*T)) # also bad"
   ]
  },
  {
   "cell_type": "markdown",
   "metadata": {},
   "source": [
    "# Helium Flash"
   ]
  },
  {
   "cell_type": "code",
   "execution_count": 47,
   "metadata": {
    "collapsed": false
   },
   "outputs": [],
   "source": [
    "def he_flash(T0,rho,Y,dt,m=1.):\n",
    "    \"\"\"\n",
    "    Basic Euler integrator to simulate a constant density\n",
    "    degenerate star just prior to the helium flash\n",
    "    \"\"\"\n",
    "    \n",
    "    mp = 1.672e-24\n",
    "    me = 9.109e-28\n",
    "    k = 1.38e-16\n",
    "    c = 3e10\n",
    "    hb = 1.0546e-27\n",
    "    pi = np.pi\n",
    "    \n",
    "    #V = m/rho\n",
    "    #N = m / (6.646e-24)\n",
    "    #Ef = ( hb**2 / (2*me) ) * (  3* pi*pi *N /V)**(2./3.) \n",
    "    #x = np.sqrt(2*me*Ef) / (me *c)\n",
    "    \n",
    "    x = (rho/2e6)**(1./3)\n",
    "    \n",
    "    print x\n",
    "    print (1e-8 * T0**1.5)\n",
    "    \n",
    "    T=T0\n",
    "    t = 0\n",
    "    _T = []\n",
    "    _t = []\n",
    "    _cve = []\n",
    "    _cvhe = []\n",
    "    _dE = []\n",
    "    \n",
    "    try:\n",
    "    \n",
    "        while rho > (1e-8 * T**1.5): # stop before the star ceases to be degenerate\n",
    "\n",
    "            cv_e = 1.35e5 * T * x * np.sqrt((1+x*x)) / rho\n",
    "            cv_he = 3*k/(4*mp)\n",
    "\n",
    "            cv = cv_e + cv_he\n",
    "\n",
    "            T9 = T*1e-9\n",
    "\n",
    "            dE = dt * m * 5.1e8 * rho**2 * Y**3 *np.exp(-4.4027/T9) / T9**3 \n",
    "\n",
    "            dT = dE/(m*cv)\n",
    "\n",
    "            _T.append(T)\n",
    "            _t.append(t)\n",
    "            _cve.append(cv_e)\n",
    "            _cvhe.append(cv_he)\n",
    "            _dE.append(dE)\n",
    "\n",
    "            T += dT\n",
    "            t += dt\n",
    "                       \n",
    "    \n",
    "    except:\n",
    "        pass\n",
    "        \n",
    "    return np.array(_t), np.array(_cve),np.array(_cvhe), np.array(_dE), np.array(_T)\n"
   ]
  },
  {
   "cell_type": "code",
   "execution_count": 48,
   "metadata": {
    "collapsed": false
   },
   "outputs": [
    {
     "name": "stdout",
     "output_type": "stream",
     "text": [
      "0.464158883361\n",
      "18371.1730709\n"
     ]
    }
   ],
   "source": [
    "t,cve,cvhe,dE,T = he_flash(T0=1.5e8,rho=2e5,Y=.25,dt=100)"
   ]
  },
  {
   "cell_type": "code",
   "execution_count": 49,
   "metadata": {
    "collapsed": false
   },
   "outputs": [
    {
     "data": {
      "text/plain": [
       "[<matplotlib.lines.Line2D at 0xedb05f8>]"
      ]
     },
     "execution_count": 49,
     "metadata": {},
     "output_type": "execute_result"
    },
    {
     "data": {
      "image/png": "[encoded data removed]",
      "text/plain": [
       "<matplotlib.figure.Figure at 0xef20860>"
      ]
     },
     "metadata": {},
     "output_type": "display_data"
    }
   ],
   "source": [
    "xlabel('t Days')\n",
    "ylabel(' T Kelvin')\n",
    "grid(True)\n",
    "plot(t/(24*3600.),T,linewidth=2)"
   ]
  },
  {
   "cell_type": "code",
   "execution_count": 50,
   "metadata": {
    "collapsed": false
   },
   "outputs": [
    {
     "data": {
      "text/plain": [
       "[<matplotlib.lines.Line2D at 0x11e82c88>]"
      ]
     },
     "execution_count": 50,
     "metadata": {},
     "output_type": "execute_result"
    },
    {
     "data": {
      "image/png": "[encoded data removed]",
      "text/plain": [
       "<matplotlib.figure.Figure at 0xeed8048>"
      ]
     },
     "metadata": {},
     "output_type": "display_data"
    }
   ],
   "source": [
    "plot(t/(24*3600.),cve/cvhe,linewidth=2)"
   ]
  },
  {
   "cell_type": "markdown",
   "metadata": {},
   "source": [
    "# Nuclear Statistical Equilibrium"
   ]
  },
  {
   "cell_type": "code",
   "execution_count": 22,
   "metadata": {
    "collapsed": true
   },
   "outputs": [],
   "source": [
    "from scipy.optimize import fsolve\n",
    "\n",
    "def frac(T9):\n",
    "    \n",
    "    rho = 1e7\n",
    "    mni = 9.289e-23\n",
    "    mhe = 6.46e-24\n",
    "    k = 1.38e-16\n",
    "    hb = 1.0546e-27\n",
    "    c = 3e10\n",
    "\n",
    "    T = T9*1e9\n",
    "    \n",
    "    d = 2*np.pi*hb**2\n",
    "    \n",
    "    f=(mni / 2.2e-234 ) * np.exp(  (mni-14*mhe)*c**2/(k*T)  ) * (mni*k*T/d)**(-1.5) * (mhe*k*T/d)**(21)\n",
    "    \n",
    "    F = lambda X4: X4**14 - (1-X4)*f\n",
    "    \n",
    "    X4 = fsolve(F,.5)\n",
    "    \n",
    "    return X4"
   ]
  },
  {
   "cell_type": "code",
   "execution_count": 23,
   "metadata": {
    "collapsed": false
   },
   "outputs": [
    {
     "name": "stderr",
     "output_type": "stream",
     "text": [
      "C:\\Users\\alex\\Anaconda\\lib\\site-packages\\ipykernel\\__main__.py:16: RuntimeWarning: overflow encountered in exp\n",
      "C:\\Users\\alex\\Anaconda\\lib\\site-packages\\ipykernel\\__main__.py:16: RuntimeWarning: overflow encountered in double_scalars\n",
      "C:\\Users\\alex\\Anaconda\\lib\\site-packages\\ipykernel\\__main__.py:18: RuntimeWarning: invalid value encountered in power\n",
      "C:\\Users\\alex\\Anaconda\\lib\\site-packages\\scipy\\optimize\\minpack.py:237: RuntimeWarning: The iteration is not making good progress, as measured by the \n",
      "  improvement from the last ten iterations.\n",
      "  warnings.warn(msg, RuntimeWarning)\n"
     ]
    }
   ],
   "source": [
    "T9 = np.linspace(4.5,6.5,10)\n",
    "X4 = []\n",
    "for _T9 in T9:\n",
    "    X4.append(frac(_T9)) # bad"
   ]
  },
  {
   "cell_type": "markdown",
   "metadata": {},
   "source": [
    "# Zero Metallicity Stars"
   ]
  },
  {
   "cell_type": "code",
   "execution_count": 51,
   "metadata": {
    "collapsed": false
   },
   "outputs": [],
   "source": [
    "import mesa_reader\n",
    "\n",
    "l = mesa_reader.MesaLogDir('LOGS_solar')"
   ]
  },
  {
   "cell_type": "code",
   "execution_count": 52,
   "metadata": {
    "collapsed": false
   },
   "outputs": [],
   "source": [
    "T_c = []\n",
    "rho_c = []\n",
    "t = []\n",
    "\n",
    "# loop over all the profiles saved for the run, and grab\n",
    "# the core temperature and density\n",
    "for idx in l.profile_numbers:\n",
    "    \n",
    "    data = l.profile_data(profile_number=idx)\n",
    "    \n",
    "    t.append(data.star_age)\n",
    "    T_c.append(data.data('T')[0])\n",
    "    rho_c.append(data.data('Rho')[0])\n",
    "    \n",
    "t = np.array(t)/1e6\n"
   ]
  },
  {
   "cell_type": "code",
   "execution_count": 59,
   "metadata": {
    "collapsed": false
   },
   "outputs": [
    {
     "data": {
      "text/plain": [
       "[<matplotlib.lines.Line2D at 0x13d4e978>]"
      ]
     },
     "execution_count": 59,
     "metadata": {},
     "output_type": "execute_result"
    },
    {
     "data": {
      "image/png": "[encoded data removed]",
      "text/plain": [
       "<matplotlib.figure.Figure at 0x13d4e358>"
      ]
     },
     "metadata": {},
     "output_type": "display_data"
    }
   ],
   "source": [
    "xlabel('Myr')\n",
    "ylabel('T_c')\n",
    "plot(t,T_c)"
   ]
  },
  {
   "cell_type": "code",
   "execution_count": 60,
   "metadata": {
    "collapsed": false
   },
   "outputs": [
    {
     "data": {
      "text/plain": [
       "[<matplotlib.lines.Line2D at 0x138fc710>]"
      ]
     },
     "execution_count": 60,
     "metadata": {},
     "output_type": "execute_result"
    },
    {
     "data": {
      "image/png": "[encoded data removed]",
      "text/plain": [
       "<matplotlib.figure.Figure at 0x138fcb70>"
      ]
     },
     "metadata": {},
     "output_type": "display_data"
    }
   ],
   "source": [
    "xlabel('Myr')\n",
    "ylabel('Rho_c')\n",
    "plot(t,rho_c)"
   ]
  },
  {
   "cell_type": "code",
   "execution_count": null,
   "metadata": {
    "collapsed": true
   },
   "outputs": [],
   "source": []
  }
 ],
 "metadata": {
  "kernelspec": {
   "display_name": "Python 2",
   "language": "python",
   "name": "python2"
  },
  "language_info": {
   "codemirror_mode": {
    "name": "ipython",
    "version": 2
   },
   "file_extension": ".py",
   "mimetype": "text/x-python",
   "name": "python",
   "nbconvert_exporter": "python",
   "pygments_lexer": "ipython2",
   "version": "2.7.9"
  }
 },
 "nbformat": 4,
 "nbformat_minor": 0
}
