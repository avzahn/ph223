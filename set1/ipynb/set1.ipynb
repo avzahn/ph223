{
 "cells": [
  {
   "cell_type": "code",
   "execution_count": 1,
   "metadata": {
    "collapsed": true
   },
   "outputs": [],
   "source": [
    "import matplotlib.pyplot as plt\n",
    "import pandas as pd\n",
    "import numpy as np"
   ]
  },
  {
   "cell_type": "markdown",
   "metadata": {},
   "source": [
    "# HR Diagram"
   ]
  },
  {
   "cell_type": "code",
   "execution_count": 2,
   "metadata": {
    "collapsed": true
   },
   "outputs": [],
   "source": [
    "def process(df):\n",
    "    \n",
    "    o_l, o_t, r_t, r_l = [],[],[],[]\n",
    "\n",
    "    for idx,row in df.iterrows():\n",
    "    \n",
    "        try:\n",
    "        \n",
    "            if 'O' in row['Type']:\n",
    "            \n",
    "                o_l.append(row['L/L_Sun'])\n",
    "                o_t.append(row['T_e'])\n",
    "            \n",
    "            else:\n",
    "            \n",
    "                r_l.append(row['L/L_Sun'])\n",
    "                r_t.append(row['T_e'])\n",
    "                \n",
    "        except: \n",
    "            pass\n",
    "            \n",
    "    return np.array(o_l), np.array(o_t),np.array(r_l),np.array(r_t)   "
   ]
  },
  {
   "cell_type": "code",
   "execution_count": 3,
   "metadata": {
    "collapsed": true
   },
   "outputs": [],
   "source": [
    "main = pd.read_fwf('main_theory.txt')\n",
    "giant = pd.read_fwf('giant_theory.txt')\n",
    "supergiant = pd.read_fwf('supergiant_theory.txt')"
   ]
  },
  {
   "cell_type": "code",
   "execution_count": 80,
   "metadata": {
    "collapsed": false
   },
   "outputs": [],
   "source": [
    "plt.gca().invert_xaxis()\n",
    "plt.xscale('log')\n",
    "plt.yscale('log')\n",
    "\n",
    "plt.xlabel('$T_{eff}$')\n",
    "plt.ylabel('$L/L_{sun}$')\n",
    "\n",
    "o_l,o_t,r_l,r_t = process(main)\n",
    "plt.scatter(o_t,o_l,facecolors='none',color='black')\n",
    "plt.scatter(r_t,r_l,color='black')\n",
    "\n",
    "o_l,o_t,r_l,r_t = process(giant)\n",
    "plt.scatter(o_t,o_l,facecolors='none',color='red')\n",
    "plt.scatter(r_t,r_l,color='red')\n",
    "\n",
    "o_l,o_t,r_l,r_t = process(supergiant)\n",
    "plt.scatter(o_t,o_l,facecolors='none',color='blue')\n",
    "plt.scatter(r_t,r_l,color='blue')\n",
    "\n",
    "plt.scatter(5777,1,marker='+',s=300,color='black')\n",
    "\n",
    "s=5.67e-8\n",
    "R=696.3e6\n",
    "L=3.827e26\n",
    "t_e = np.linspace(2500,55000,1000)\n",
    "radius_index = np.array([.2,1,5,10,50,100,500,2500])\n",
    "const_r = [4*np.pi*t_e**4*s*r*r*R*R/L for r in radius_index ]\n",
    "\n",
    "for c in const_r:\n",
    "    plt.plot(t_e,c,color='gray',linestyle='-')\n",
    "plt.savefig('../tex/HR.png',dpi=350)\n",
    "plt.show()    \n"
   ]
  },
  {
   "cell_type": "markdown",
   "metadata": {
    "collapsed": true
   },
   "source": [
    "# Molecular Weights"
   ]
  },
  {
   "cell_type": "code",
   "execution_count": null,
   "metadata": {
    "collapsed": true
   },
   "outputs": [],
   "source": []
  }
 ],
 "metadata": {
  "kernelspec": {
   "display_name": "Python 2",
   "language": "python",
   "name": "python2"
  },
  "language_info": {
   "codemirror_mode": {
    "name": "ipython",
    "version": 2
   },
   "file_extension": ".py",
   "mimetype": "text/x-python",
   "name": "python",
   "nbconvert_exporter": "python",
   "pygments_lexer": "ipython2",
   "version": "2.7.11"
  }
 },
 "nbformat": 4,
 "nbformat_minor": 0
}
