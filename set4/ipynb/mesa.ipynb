{
 "cells": [
  {
   "cell_type": "code",
   "execution_count": 2,
   "metadata": {
    "collapsed": false
   },
   "outputs": [],
   "source": [
    "from mesa_reader import *"
   ]
  },
  {
   "cell_type": "code",
   "execution_count": 3,
   "metadata": {
    "collapsed": false
   },
   "outputs": [
    {
     "name": "stdout",
     "output_type": "stream",
     "text": [
      "/home/alex/ph223/set4/minilabs_langer\n"
     ]
    }
   ],
   "source": [
    "cd ../minilabs_langer/"
   ]
  },
  {
   "cell_type": "code",
   "execution_count": 99,
   "metadata": {
    "collapsed": false
   },
   "outputs": [],
   "source": [
    "def do_part_a(mass):\n",
    "\n",
    "    log = MesaLogDir()\n",
    "\n",
    "    t = log.history.star_age / 1e6\n",
    "    L = log.history.max_Lrad_div_Ledd\n",
    "    r = log.history.r_div_rzams\n",
    "\n",
    "\n",
    "    rc('axes', linewidth=1.5)\n",
    "\n",
    "    fig = figure()\n",
    "\n",
    "    fig.suptitle('$M = %sM_{\\odot}$'%mass,fontsize=16)\n",
    "\n",
    "    ax1 = fig.add_subplot(211)\n",
    "    ax1.plot(t,L,color='r',linewidth=2)\n",
    "\n",
    "    ax1.set_ylabel('$L_{rad}/L_{edd}$',fontsize=16)\n",
    "    ax1.grid()\n",
    "\n",
    "    setp(ax1.get_xticklabels(),visible=False)\n",
    "\n",
    "    ax2 = fig.add_subplot(212,sharex=ax1)\n",
    "    ax2.plot(t,r,color='g',linewidth=2)\n",
    "    ax2.grid()\n",
    "\n",
    "    ax2.set_ylabel('$R/R_{ZAMS}$',fontsize=16)\n",
    "\n",
    "    ax2.set_xlabel('Star Age (Myr)',fontsize=14)\n",
    "\n",
    "    savefig('../png/a%s.png'%mass,dpi=150)\n",
    "    \n",
    "    \n",
    "    print t[-1],max(L),max(r),max(log.model_numbers)\n"
   ]
  },
  {
   "cell_type": "code",
   "execution_count": 100,
   "metadata": {
    "collapsed": false
   },
   "outputs": [
    {
     "name": "stdout",
     "output_type": "stream",
     "text": [
      "19.4543261174 0.387747783054 2.0850182879 253\n"
     ]
    }
   ],
   "source": [
    "do_part_a(10)"
   ]
  },
  {
   "cell_type": "code",
   "execution_count": 101,
   "metadata": {
    "collapsed": false
   },
   "outputs": [
    {
     "name": "stdout",
     "output_type": "stream",
     "text": [
      "7.54809391863 0.767424347079 2.47774146212 271\n"
     ]
    }
   ],
   "source": [
    "do_part_a(20)"
   ]
  },
  {
   "cell_type": "code",
   "execution_count": 102,
   "metadata": {
    "collapsed": false
   },
   "outputs": [
    {
     "name": "stdout",
     "output_type": "stream",
     "text": [
      "4.28365207533 0.97553316698 3.73920056085 284\n"
     ]
    }
   ],
   "source": [
    "do_part_a(40)"
   ]
  },
  {
   "cell_type": "code",
   "execution_count": 103,
   "metadata": {
    "collapsed": false
   },
   "outputs": [
    {
     "name": "stdout",
     "output_type": "stream",
     "text": [
      "3.31706710196 1.04019946865 5.14001966929 302\n"
     ]
    }
   ],
   "source": [
    "do_part_a(60)"
   ]
  },
  {
   "cell_type": "code",
   "execution_count": 104,
   "metadata": {
    "collapsed": false
   },
   "outputs": [
    {
     "name": "stdout",
     "output_type": "stream",
     "text": [
      "2.93091165616 1.07026852693 7.52922893314 326\n"
     ]
    }
   ],
   "source": [
    "do_part_a(80)"
   ]
  },
  {
   "cell_type": "code",
   "execution_count": 105,
   "metadata": {
    "collapsed": true
   },
   "outputs": [],
   "source": [
    "def do_part_b(alpha):\n",
    "    \n",
    "    log = MesaLogDir()\n",
    "\n",
    "    t = log.history.star_age / 1e6\n",
    "    L = log.history.max_Lrad_div_Ledd\n",
    "    r = log.history.r_div_rzams   \n",
    "    \n",
    "    print t[-1],max(L),max(r),max(log.model_numbers),alpha"
   ]
  },
  {
   "cell_type": "code",
   "execution_count": 106,
   "metadata": {
    "collapsed": false
   },
   "outputs": [
    {
     "name": "stdout",
     "output_type": "stream",
     "text": [
      "19.4541831374 0.405589281033 2.08575120021 253 1\n"
     ]
    }
   ],
   "source": [
    "do_part_b(1)"
   ]
  },
  {
   "cell_type": "code",
   "execution_count": 107,
   "metadata": {
    "collapsed": false
   },
   "outputs": [
    {
     "name": "stdout",
     "output_type": "stream",
     "text": [
      "19.4542260969 0.399105324064 2.08550190846 253 1.5\n"
     ]
    }
   ],
   "source": [
    "do_part_b(1.5)"
   ]
  },
  {
   "cell_type": "code",
   "execution_count": 109,
   "metadata": {
    "collapsed": false
   },
   "outputs": [
    {
     "name": "stdout",
     "output_type": "stream",
     "text": [
      "19.4544298143 0.370922448237 2.08402695565 253 3\n"
     ]
    }
   ],
   "source": [
    "do_part_b(3)"
   ]
  },
  {
   "cell_type": "code",
   "execution_count": 112,
   "metadata": {
    "collapsed": false
   },
   "outputs": [
    {
     "name": "stdout",
     "output_type": "stream",
     "text": [
      "19.4536802646 0.35140729019 2.08194988519 253 10\n"
     ]
    }
   ],
   "source": [
    "do_part_b(10)"
   ]
  },
  {
   "cell_type": "code",
   "execution_count": 113,
   "metadata": {
    "collapsed": false
   },
   "outputs": [
    {
     "name": "stdout",
     "output_type": "stream",
     "text": [
      "19.4540364447 0.346796231486 2.08028636841 253 100\n"
     ]
    }
   ],
   "source": [
    "do_part_b(100)"
   ]
  },
  {
   "cell_type": "code",
   "execution_count": null,
   "metadata": {
    "collapsed": true
   },
   "outputs": [],
   "source": []
  }
 ],
 "metadata": {
  "kernelspec": {
   "display_name": "Python 2",
   "language": "python",
   "name": "python2"
  },
  "language_info": {
   "codemirror_mode": {
    "name": "ipython",
    "version": 2
   },
   "file_extension": ".py",
   "mimetype": "text/x-python",
   "name": "python",
   "nbconvert_exporter": "python",
   "pygments_lexer": "ipython2",
   "version": "2.7.11"
  }
 },
 "nbformat": 4,
 "nbformat_minor": 0
}
