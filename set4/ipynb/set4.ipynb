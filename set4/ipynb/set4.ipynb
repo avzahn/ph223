{
 "cells": [
  {
   "cell_type": "code",
   "execution_count": 1,
   "metadata": {
    "collapsed": true
   },
   "outputs": [],
   "source": [
    "from polytrope import *"
   ]
  },
  {
   "cell_type": "code",
   "execution_count": 336,
   "metadata": {
    "collapsed": false
   },
   "outputs": [],
   "source": [
    "import numpy as np\n",
    "\n",
    "def random_walk(n,x0=0,y0=0,z0=0,step='delta'):\n",
    "    \n",
    "    # recipe for choosing a random direction on a unit sphere\n",
    "    \n",
    "    rand = lambda : np.random.uniform(-1,1,n)\n",
    "    x1,x2 = rand(),rand()\n",
    "    \n",
    "    a = x1**2 + x2**2\n",
    "    \n",
    "    idx = np.argwhere( a <= 1 )\n",
    "    x1,x2,a = x1[idx].flatten(),x2[idx].flatten(),a[idx].flatten()\n",
    "    \n",
    "    b = np.sqrt(1-a)\n",
    "    \n",
    "    dx =  2*x1*b\n",
    "    dy =  2*x2*b\n",
    "    dz =  1-2*a\n",
    "    \n",
    "    if step == 'exp':\n",
    "        s = np.random.exponential(scale=1.0,size=len(dx))\n",
    "        dx*=s\n",
    "        dy*=s\n",
    "        dz*=s\n",
    "        \n",
    "    if step == 'tri':\n",
    "        s = np.random.triangular(0,1.5,1.5,size=len(dx))\n",
    "        dx*=s\n",
    "        dy*=s\n",
    "        dz*=s\n",
    "    \n",
    "    x = x0 + np.cumsum(dx)\n",
    "    y = y0 + np.cumsum(dy)\n",
    "    z = z0 + np.cumsum(dz)\n",
    "    \n",
    "    return x[-1],y[-1],z[-1], np.sqrt( x**2 + y**2 + z**2 )\n",
    "\n",
    "def random_steps_until(dist,step='delta'):\n",
    "    \n",
    "    n = 0\n",
    "    x0,y0,z0=0,0,0\n",
    "    k = dist\n",
    "    \n",
    "    while True:\n",
    "    \n",
    "        x0,y0,z0,r = random_walk(int(k*k),x0,y0,z0,step )\n",
    "        \n",
    "        cond = np.argwhere(r >= dist).flatten()\n",
    "        \n",
    "        if len(cond) > 0:\n",
    "            return n + cond[0] + 1\n",
    "    \n",
    "        n += len(r)\n",
    "        k = max(10,dist-r[-1])\n"
   ]
  },
  {
   "cell_type": "code",
   "execution_count": 312,
   "metadata": {
    "collapsed": false
   },
   "outputs": [],
   "source": [
    "vals = np.array([random_steps_until(50,step='delta') for i in range(100000) ])"
   ]
  },
  {
   "cell_type": "code",
   "execution_count": 318,
   "metadata": {
    "collapsed": true
   },
   "outputs": [],
   "source": [
    "vals_exp = np.array([random_steps_until(50,step='exp') for i in range(100000) ])"
   ]
  },
  {
   "cell_type": "code",
   "execution_count": 339,
   "metadata": {
    "collapsed": false
   },
   "outputs": [],
   "source": [
    "vals_tri = np.array([random_steps_until(50,step='tri') for i in range(100000) ])"
   ]
  },
  {
   "cell_type": "code",
   "execution_count": 315,
   "metadata": {
    "collapsed": false
   },
   "outputs": [
    {
     "data": {
      "text/plain": [
       "2526.3703500000001"
      ]
     },
     "execution_count": 315,
     "metadata": {},
     "output_type": "execute_result"
    }
   ],
   "source": [
    "np.mean(vals)"
   ]
  },
  {
   "cell_type": "code",
   "execution_count": 316,
   "metadata": {
    "collapsed": false
   },
   "outputs": [
    {
     "data": {
      "text/plain": [
       "1601.1428415512705"
      ]
     },
     "execution_count": 316,
     "metadata": {},
     "output_type": "execute_result"
    }
   ],
   "source": [
    "np.std(vals)"
   ]
  },
  {
   "cell_type": "code",
   "execution_count": 317,
   "metadata": {
    "collapsed": false
   },
   "outputs": [
    {
     "data": {
      "text/plain": [
       "2101.0"
      ]
     },
     "execution_count": 317,
     "metadata": {},
     "output_type": "execute_result"
    }
   ],
   "source": [
    "np.median(vals)"
   ]
  },
  {
   "cell_type": "code",
   "execution_count": null,
   "metadata": {
    "collapsed": true
   },
   "outputs": [],
   "source": []
  },
  {
   "cell_type": "code",
   "execution_count": 40,
   "metadata": {
    "collapsed": false
   },
   "outputs": [
    {
     "name": "stdout",
     "output_type": "stream",
     "text": [
      "Using matplotlib backend: Qt4Agg\n",
      "Populating the interactive namespace from numpy and matplotlib\n"
     ]
    },
    {
     "name": "stderr",
     "output_type": "stream",
     "text": [
      "WARNING: pylab import has clobbered these variables: ['rk4', 'rand']\n",
      "`%matplotlib` prevents importing * from pylab and numpy\n"
     ]
    }
   ],
   "source": [
    "%pylab"
   ]
  },
  {
   "cell_type": "code",
   "execution_count": 323,
   "metadata": {
    "collapsed": false,
    "scrolled": true
   },
   "outputs": [
    {
     "data": {
      "text/plain": [
       "(array([  8.85947047e-06,   8.03971487e-05,   2.07077393e-04,\n",
       "          3.08553971e-04,   3.65682281e-04,   3.89765784e-04,\n",
       "          3.85488798e-04,   3.62729124e-04,   3.37780041e-04,\n",
       "          3.04786151e-04,   2.75254582e-04,   2.43737271e-04,\n",
       "          2.17871690e-04,   1.86710794e-04,   1.64663951e-04,\n",
       "          1.49490835e-04,   1.30957230e-04,   1.15274949e-04,\n",
       "          1.03920570e-04,   8.95112016e-05,   8.09572301e-05,\n",
       "          6.87372709e-05,   6.15071283e-05,   5.34623218e-05,\n",
       "          4.77596741e-05,   4.03767821e-05,   3.86965377e-05,\n",
       "          3.32484725e-05,   2.70875764e-05,   2.45417515e-05,\n",
       "          2.24541752e-05,   1.76680244e-05,   1.74643585e-05,\n",
       "          1.57331976e-05,   1.25763747e-05,   1.30346232e-05,\n",
       "          1.11507128e-05,   9.67413442e-06,   8.04480652e-06,\n",
       "          7.68839104e-06,   6.87372709e-06,   5.90631365e-06,\n",
       "          5.44806517e-06,   3.46232179e-06,   4.22606925e-06,\n",
       "          3.20773931e-06,   2.80040733e-06,   2.34215886e-06,\n",
       "          2.03665988e-06,   1.12016293e-06,   1.93482688e-06,\n",
       "          1.42566191e-06,   1.01832994e-06,   1.32382892e-06,\n",
       "          9.16496945e-07,   7.12830957e-07,   5.60081466e-07,\n",
       "          1.01832994e-06,   3.56415479e-07,   3.05498982e-07,\n",
       "          5.60081466e-07,   5.09164969e-07,   2.54582485e-07,\n",
       "          3.05498982e-07,   2.54582485e-07,   3.56415479e-07,\n",
       "          2.03665988e-07,   2.03665988e-07,   2.54582485e-07,\n",
       "          1.52749491e-07,   1.01832994e-07,   5.09164969e-08,\n",
       "          1.01832994e-07,   1.01832994e-07,   5.09164969e-08,\n",
       "          5.09164969e-08,   5.09164969e-08,   5.09164969e-08,\n",
       "          1.01832994e-07,   5.09164969e-08,   5.09164969e-08,\n",
       "          0.00000000e+00,   0.00000000e+00,   1.01832994e-07,\n",
       "          5.09164969e-08,   0.00000000e+00,   0.00000000e+00,\n",
       "          5.09164969e-08,   0.00000000e+00,   5.09164969e-08,\n",
       "          5.09164969e-08,   5.09164969e-08,   0.00000000e+00,\n",
       "          0.00000000e+00,   0.00000000e+00,   0.00000000e+00,\n",
       "          0.00000000e+00,   5.09164969e-08,   0.00000000e+00,\n",
       "          5.09164969e-08]),\n",
       " array([   271. ,    467.4,    663.8,    860.2,   1056.6,   1253. ,\n",
       "          1449.4,   1645.8,   1842.2,   2038.6,   2235. ,   2431.4,\n",
       "          2627.8,   2824.2,   3020.6,   3217. ,   3413.4,   3609.8,\n",
       "          3806.2,   4002.6,   4199. ,   4395.4,   4591.8,   4788.2,\n",
       "          4984.6,   5181. ,   5377.4,   5573.8,   5770.2,   5966.6,\n",
       "          6163. ,   6359.4,   6555.8,   6752.2,   6948.6,   7145. ,\n",
       "          7341.4,   7537.8,   7734.2,   7930.6,   8127. ,   8323.4,\n",
       "          8519.8,   8716.2,   8912.6,   9109. ,   9305.4,   9501.8,\n",
       "          9698.2,   9894.6,  10091. ,  10287.4,  10483.8,  10680.2,\n",
       "         10876.6,  11073. ,  11269.4,  11465.8,  11662.2,  11858.6,\n",
       "         12055. ,  12251.4,  12447.8,  12644.2,  12840.6,  13037. ,\n",
       "         13233.4,  13429.8,  13626.2,  13822.6,  14019. ,  14215.4,\n",
       "         14411.8,  14608.2,  14804.6,  15001. ,  15197.4,  15393.8,\n",
       "         15590.2,  15786.6,  15983. ,  16179.4,  16375.8,  16572.2,\n",
       "         16768.6,  16965. ,  17161.4,  17357.8,  17554.2,  17750.6,\n",
       "         17947. ,  18143.4,  18339.8,  18536.2,  18732.6,  18929. ,\n",
       "         19125.4,  19321.8,  19518.2,  19714.6,  19911. ]),\n",
       " <a list of 100 Patch objects>)"
      ]
     },
     "execution_count": 323,
     "metadata": {},
     "output_type": "execute_result"
    }
   ],
   "source": [
    "grid(True)\n",
    "xlabel('iterations')\n",
    "ylabel('normalized occurrences')\n",
    "\n",
    "hist(vals,bins=100,normed=True)\n",
    "\n"
   ]
  },
  {
   "cell_type": "code",
   "execution_count": 341,
   "metadata": {
    "collapsed": false
   },
   "outputs": [
    {
     "data": {
      "text/plain": [
       "(array([  7.30098917e-06,   7.13612812e-05,   2.04839849e-04,\n",
       "          3.28780028e-04,   4.04439472e-04,   4.38118229e-04,\n",
       "          4.34703250e-04,   4.17098446e-04,   3.91309468e-04,\n",
       "          3.46325954e-04,   3.24128592e-04,   2.85621762e-04,\n",
       "          2.54886952e-04,   2.26683938e-04,   2.01424870e-04,\n",
       "          1.84114461e-04,   1.56735751e-04,   1.42133773e-04,\n",
       "          1.25235516e-04,   1.09514837e-04,   9.90343853e-05,\n",
       "          8.61398964e-05,   7.95454545e-05,   6.46490815e-05,\n",
       "          5.51695714e-05,   5.44630240e-05,   4.55134244e-05,\n",
       "          4.05675930e-05,   3.60927932e-05,   3.17946302e-05,\n",
       "          3.09703250e-05,   2.46113990e-05,   1.94889308e-05,\n",
       "          1.83702308e-05,   1.72515309e-05,   1.72515309e-05,\n",
       "          1.37187942e-05,   1.10692416e-05,   1.08926048e-05,\n",
       "          8.47856806e-06,   9.00847857e-06,   6.06453132e-06,\n",
       "          5.88789449e-06,   5.00471032e-06,   5.24022610e-06,\n",
       "          4.59255770e-06,   3.76825247e-06,   3.94488931e-06,\n",
       "          3.00282619e-06,   2.23739991e-06,   2.17852096e-06,\n",
       "          1.94300518e-06,   1.58973151e-06,   1.82524729e-06,\n",
       "          1.35421573e-06,   1.76636835e-06,   1.17757890e-06,\n",
       "          7.06547339e-07,   1.11869995e-06,   1.00094206e-06,\n",
       "          5.29910504e-07,   4.12152614e-07,   2.35515780e-07,\n",
       "          2.35515780e-07,   4.12152614e-07,   4.71031559e-07,\n",
       "          2.94394724e-07,   3.53273669e-07,   1.17757890e-07,\n",
       "          2.94394724e-07,   1.76636835e-07,   2.35515780e-07,\n",
       "          5.88789449e-08,   1.76636835e-07,   5.88789449e-08,\n",
       "          1.17757890e-07,   5.88789449e-08,   1.17757890e-07,\n",
       "          0.00000000e+00,   1.17757890e-07,   0.00000000e+00,\n",
       "          0.00000000e+00,   0.00000000e+00,   1.17757890e-07,\n",
       "          0.00000000e+00,   0.00000000e+00,   0.00000000e+00,\n",
       "          0.00000000e+00,   0.00000000e+00,   0.00000000e+00,\n",
       "          0.00000000e+00,   0.00000000e+00,   0.00000000e+00,\n",
       "          0.00000000e+00,   0.00000000e+00,   0.00000000e+00,\n",
       "          0.00000000e+00,   0.00000000e+00,   0.00000000e+00,\n",
       "          5.88789449e-08]),\n",
       " array([   223.  ,    392.84,    562.68,    732.52,    902.36,   1072.2 ,\n",
       "          1242.04,   1411.88,   1581.72,   1751.56,   1921.4 ,   2091.24,\n",
       "          2261.08,   2430.92,   2600.76,   2770.6 ,   2940.44,   3110.28,\n",
       "          3280.12,   3449.96,   3619.8 ,   3789.64,   3959.48,   4129.32,\n",
       "          4299.16,   4469.  ,   4638.84,   4808.68,   4978.52,   5148.36,\n",
       "          5318.2 ,   5488.04,   5657.88,   5827.72,   5997.56,   6167.4 ,\n",
       "          6337.24,   6507.08,   6676.92,   6846.76,   7016.6 ,   7186.44,\n",
       "          7356.28,   7526.12,   7695.96,   7865.8 ,   8035.64,   8205.48,\n",
       "          8375.32,   8545.16,   8715.  ,   8884.84,   9054.68,   9224.52,\n",
       "          9394.36,   9564.2 ,   9734.04,   9903.88,  10073.72,  10243.56,\n",
       "         10413.4 ,  10583.24,  10753.08,  10922.92,  11092.76,  11262.6 ,\n",
       "         11432.44,  11602.28,  11772.12,  11941.96,  12111.8 ,  12281.64,\n",
       "         12451.48,  12621.32,  12791.16,  12961.  ,  13130.84,  13300.68,\n",
       "         13470.52,  13640.36,  13810.2 ,  13980.04,  14149.88,  14319.72,\n",
       "         14489.56,  14659.4 ,  14829.24,  14999.08,  15168.92,  15338.76,\n",
       "         15508.6 ,  15678.44,  15848.28,  16018.12,  16187.96,  16357.8 ,\n",
       "         16527.64,  16697.48,  16867.32,  17037.16,  17207.  ]),\n",
       " <a list of 1 Patch objects>)"
      ]
     },
     "execution_count": 341,
     "metadata": {},
     "output_type": "execute_result"
    }
   ],
   "source": [
    "grid(True)\n",
    "xlabel('iterations')\n",
    "ylabel('normalized occurrences')\n",
    "\n",
    "hist(vals,bins=100,histtype='step',normed=True,linewidth='2')\n",
    "hist(vals_exp,bins=100,histtype='step',normed=True,linewidth='2')\n",
    "hist(vals_tri,bins=100,histtype='step',normed=True,linewidth='2')"
   ]
  },
  {
   "cell_type": "code",
   "execution_count": 325,
   "metadata": {
    "collapsed": false,
    "scrolled": true
   },
   "outputs": [
    {
     "data": {
      "text/plain": [
       "1286.1559600000001"
      ]
     },
     "execution_count": 325,
     "metadata": {},
     "output_type": "execute_result"
    }
   ],
   "source": [
    "np.mean(vals_exp)"
   ]
  },
  {
   "cell_type": "code",
   "execution_count": 281,
   "metadata": {
    "collapsed": false
   },
   "outputs": [],
   "source": [
    "x2,y2,z2,r2 = random_walk(2500,x,y,z)"
   ]
  },
  {
   "cell_type": "code",
   "execution_count": 263,
   "metadata": {
    "collapsed": false
   },
   "outputs": [
    {
     "data": {
      "text/plain": [
       "[<matplotlib.lines.Line2D at 0x2c4261d0>]"
      ]
     },
     "execution_count": 263,
     "metadata": {},
     "output_type": "execute_result"
    }
   ],
   "source": [
    "plot(r2)"
   ]
  },
  {
   "cell_type": "code",
   "execution_count": 282,
   "metadata": {
    "collapsed": false
   },
   "outputs": [
    {
     "data": {
      "text/plain": [
       "[<matplotlib.lines.Line2D at 0x2e34a780>]"
      ]
     },
     "execution_count": 282,
     "metadata": {},
     "output_type": "execute_result"
    }
   ],
   "source": [
    "plot(np.append(r,r2))"
   ]
  },
  {
   "cell_type": "code",
   "execution_count": 270,
   "metadata": {
    "collapsed": false
   },
   "outputs": [
    {
     "data": {
      "text/plain": [
       "array([0, 1, 2, 3, 4, 0, 1, 2, 3, 4])"
      ]
     },
     "execution_count": 270,
     "metadata": {},
     "output_type": "execute_result"
    }
   ],
   "source": [
    "np.append( np.arange(5), np.arange(5) )"
   ]
  },
  {
   "cell_type": "code",
   "execution_count": 217,
   "metadata": {
    "collapsed": false
   },
   "outputs": [
    {
     "data": {
      "text/plain": [
       "array([  1.        ,   1.9640993 ,   2.32734777, ...,  31.56517228,\n",
       "        32.51711058,  32.40616846])"
      ]
     },
     "execution_count": 217,
     "metadata": {},
     "output_type": "execute_result"
    }
   ],
   "source": [
    "r"
   ]
  },
  {
   "cell_type": "code",
   "execution_count": 225,
   "metadata": {
    "collapsed": true
   },
   "outputs": [],
   "source": [
    "a = 1 + np.arange(10)"
   ]
  },
  {
   "cell_type": "code",
   "execution_count": 224,
   "metadata": {
    "collapsed": false
   },
   "outputs": [
    {
     "data": {
      "text/plain": [
       "array([ 0,  1,  3,  6, 10, 15, 21, 28, 36, 45])"
      ]
     },
     "execution_count": 224,
     "metadata": {},
     "output_type": "execute_result"
    }
   ],
   "source": [
    "np.cumsum(np.arange(10))"
   ]
  },
  {
   "cell_type": "code",
   "execution_count": 226,
   "metadata": {
    "collapsed": false
   },
   "outputs": [
    {
     "data": {
      "text/plain": [
       "array([ 1,  2,  3,  4,  5,  6,  7,  8,  9, 10])"
      ]
     },
     "execution_count": 226,
     "metadata": {},
     "output_type": "execute_result"
    }
   ],
   "source": [
    "a"
   ]
  },
  {
   "cell_type": "code",
   "execution_count": 227,
   "metadata": {
    "collapsed": false
   },
   "outputs": [
    {
     "data": {
      "text/plain": [
       "array([ 1,  3,  6, 10, 15, 21, 28, 36, 45, 55])"
      ]
     },
     "execution_count": 227,
     "metadata": {},
     "output_type": "execute_result"
    }
   ],
   "source": [
    "np.cumsum(a)"
   ]
  },
  {
   "cell_type": "code",
   "execution_count": 297,
   "metadata": {
    "collapsed": false
   },
   "outputs": [
    {
     "data": {
      "text/plain": [
       "array([ 0.75948463,  0.17151996,  0.03098001, ...,  1.33090742,\n",
       "        1.35831705,  0.98850738])"
      ]
     },
     "execution_count": 297,
     "metadata": {},
     "output_type": "execute_result"
    }
   ],
   "source": [
    "np.random.exponential(size=len(r))"
   ]
  },
  {
   "cell_type": "code",
   "execution_count": 298,
   "metadata": {
    "collapsed": true
   },
   "outputs": [],
   "source": [
    "rand = lambda : np.random.uniform(-1,1,n)\n",
    "x1,x2 = rand(),rand()\n",
    "    \n",
    "a = x1**2 + x2**2\n",
    "    \n",
    "idx = np.argwhere( a <= 1 )\n",
    "x1,x2,a = x1[idx],x2[idx],a[idx]"
   ]
  },
  {
   "cell_type": "code",
   "execution_count": 299,
   "metadata": {
    "collapsed": false
   },
   "outputs": [
    {
     "data": {
      "text/plain": [
       "array([[-0.21670655],\n",
       "       [-0.66863481],\n",
       "       [ 0.45965086],\n",
       "       ..., \n",
       "       [ 0.41517618],\n",
       "       [-0.6170463 ],\n",
       "       [ 0.51495991]])"
      ]
     },
     "execution_count": 299,
     "metadata": {},
     "output_type": "execute_result"
    }
   ],
   "source": [
    "x1"
   ]
  },
  {
   "cell_type": "code",
   "execution_count": 329,
   "metadata": {
    "collapsed": false
   },
   "outputs": [
    {
     "data": {
      "text/plain": [
       "0.69314718055994529"
      ]
     },
     "execution_count": 329,
     "metadata": {},
     "output_type": "execute_result"
    }
   ],
   "source": [
    "np.log(2)"
   ]
  },
  {
   "cell_type": "code",
   "execution_count": 330,
   "metadata": {
    "collapsed": true
   },
   "outputs": [],
   "source": [
    " h = plt.hist(np.random.triangular(0, 1.5,1.5, 100000), bins=200, normed=True)"
   ]
  },
  {
   "cell_type": "code",
   "execution_count": 331,
   "metadata": {
    "collapsed": true
   },
   "outputs": [],
   "source": [
    "tri=np.random.triangular(0, 1.5,1.5, 100000)"
   ]
  },
  {
   "cell_type": "code",
   "execution_count": 333,
   "metadata": {
    "collapsed": false
   },
   "outputs": [
    {
     "data": {
      "text/plain": [
       "1.0004141202306827"
      ]
     },
     "execution_count": 333,
     "metadata": {},
     "output_type": "execute_result"
    }
   ],
   "source": [
    "np.mean(tri)"
   ]
  },
  {
   "cell_type": "code",
   "execution_count": null,
   "metadata": {
    "collapsed": true
   },
   "outputs": [],
   "source": []
  }
 ],
 "metadata": {
  "kernelspec": {
   "display_name": "Python 2",
   "language": "python",
   "name": "python2"
  },
  "language_info": {
   "codemirror_mode": {
    "name": "ipython",
    "version": 2
   },
   "file_extension": ".py",
   "mimetype": "text/x-python",
   "name": "python",
   "nbconvert_exporter": "python",
   "pygments_lexer": "ipython2",
   "version": "2.7.10"
  }
 },
 "nbformat": 4,
 "nbformat_minor": 0
}
