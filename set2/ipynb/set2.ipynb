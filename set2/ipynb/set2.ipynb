{
 "cells": [
  {
   "cell_type": "markdown",
   "metadata": {},
   "source": [
    "# 1. Lane-Emden Equation and Polytropes"
   ]
  },
  {
   "cell_type": "markdown",
   "metadata": {},
   "source": [
    "## a. Lane-Emden Equation Integrator"
   ]
  },
  {
   "cell_type": "code",
   "execution_count": 1,
   "metadata": {
    "collapsed": false
   },
   "outputs": [
    {
     "name": "stdout",
     "output_type": "stream",
     "text": [
      "Using matplotlib backend: Qt4Agg\n",
      "Populating the interactive namespace from numpy and matplotlib\n"
     ]
    }
   ],
   "source": [
    "%pylab"
   ]
  },
  {
   "cell_type": "code",
   "execution_count": 2,
   "metadata": {
    "collapsed": false
   },
   "outputs": [],
   "source": [
    "import numpy as np\n",
    "\n",
    "def euler(n,h):\n",
    "    \n",
    "    _x = []\n",
    "    _theta =[]\n",
    "    _f = []\n",
    "    \n",
    "    theta = 1\n",
    "    f = 0\n",
    "    x = 0\n",
    "   \n",
    "    k = 0\n",
    "    while theta >= 0:\n",
    "        \n",
    "        x = h*(k+1)\n",
    "        \n",
    "        fp = -theta**n - (2./x)*f\n",
    "        df = h * fp\n",
    "        f += df\n",
    "        \n",
    "        dtheta = h * f\n",
    "        theta += dtheta\n",
    "        \n",
    "        k += 1\n",
    "        \n",
    "        _theta.append(theta)\n",
    "        _x.append(h*k)\n",
    "        _f.append(f)\n",
    "        \n",
    "    return np.array(_x), np.array(_theta), np.array(_f)\n",
    "\n",
    "def rk4(n,h,disp = False,ndisp=100):\n",
    "    \"\"\"\n",
    "    Follow the notation and recipe from HWT chapter 7:\n",
    "        y = theta_n\n",
    "        x = xi\n",
    "        z = dy/dx\n",
    "        \n",
    "    \"\"\"\n",
    "    \n",
    "    _x = []\n",
    "    _y = []\n",
    "    _z = []\n",
    "    \n",
    "    \n",
    "    # Start the integration just off the origin and get y and y' from the taylor\n",
    "    # expansion for y\n",
    "    \n",
    "    x0 = .01367 * h   \n",
    "    y = 1. - (x0**2)/6. + (n * x0**4 / 120.) - (n*(8*n -5)*x0**6/15120.)\n",
    "    z = -(x0/3.) + (n*x0**3/30.) - ( 6*n*(8*n -5)*x0**5/15120. )\n",
    "    \n",
    "    if disp: print 'z0 = %f, y0 = %f' % (z,y)\n",
    "       \n",
    "    i = 0\n",
    "    while y > 0:\n",
    "        \n",
    "        try:\n",
    "        \n",
    "            x1 =  x0 + h*i\n",
    "            x23 = x1 + .5*h\n",
    "            x4 = x1 + h\n",
    "        \n",
    "            k1 = h*z\n",
    "            l1 = -h*( (y**n) + (2./x1)*z)\n",
    "        \n",
    "            z2 = z + (.5 * l1)\n",
    "            k2 = h * z2\n",
    "            l2 = -h * ( (y + .5 * k1)**n  + (2./x23) * z2  )\n",
    "        \n",
    "            z3 = z + (.5*l2)\n",
    "            k3 = h * z3\n",
    "            l3 = -h * (  (y + .5 * k2)**n  + (2./x23) * z3 )\n",
    "        \n",
    "            z4 = z + (.5*l3)\n",
    "            k4 = h * (z + l3)\n",
    "            l4 = -h * ( (y + k3)**n  + (2./x4) * z4 )\n",
    "        \n",
    "            dz = (l1 + 2*l2 + 2*l3 + l4) / 6.\n",
    "            dy = (k1 + 2*k2 + 2*k3 + k4) / 6.        \n",
    "        \n",
    "        \n",
    "            if (not(i%ndisp)) and disp:\n",
    "                print'--------'\n",
    "                print 'x1',x1\n",
    "                print 'l',l1,l2,l3,l4\n",
    "                print 'k',k1,k2,k3,k4\n",
    "                print 'dy,dz',dy,dz\n",
    "                print 'y,z',y,z\n",
    "        \n",
    "            z += dz\n",
    "            y += dy\n",
    "        \n",
    "            i += 1\n",
    "        \n",
    "            _y.append(y)\n",
    "            _x.append(x1)\n",
    "            _z.append(z)    \n",
    "    \n",
    "            if disp: print 'x_1 = %f, y_1 = %f, z_1 = %f, D = %f' % (_x[-1],_y[-1],_z[-1], -_x[-1]**2*_z[-1])\n",
    "            \n",
    "        except:\n",
    "            break\n",
    "    \n",
    "    return np.array(_x), np.array(_y), np.array(_z)\n",
    "\n",
    "# some exact solutions, for comparison\n",
    "\n",
    "def poly1(x):\n",
    "    return np.sin(x)/x\n",
    "\n",
    "def poly0(x):\n",
    "    return 1 - x*x/6.\n",
    "\n",
    "def poly5(x):\n",
    "    return (1+x*x/3)**-.5\n"
   ]
  },
  {
   "cell_type": "code",
   "execution_count": 11,
   "metadata": {
    "collapsed": false
   },
   "outputs": [],
   "source": [
    "x1,y1,z1 = rk4(1.,1e-4)\n",
    "x15,y15,z15 = rk4(1.5,1e-4)\n",
    "x2,y2,z2 = rk4(2.,1e-4)\n",
    "x3,y3,z3 = rk4(3.,1e-4)"
   ]
  },
  {
   "cell_type": "code",
   "execution_count": 29,
   "metadata": {
    "collapsed": false
   },
   "outputs": [
    {
     "data": {
      "text/plain": [
       "<matplotlib.legend.Legend at 0x164f1630>"
      ]
     },
     "execution_count": 29,
     "metadata": {},
     "output_type": "execute_result"
    }
   ],
   "source": [
    "l = 100\n",
    "\n",
    "# downsample to make the plot cleaner\n",
    "_x1,_y1 = x1[::l],y1[::l]\n",
    "_x15,_y15 = x15[::l],y15[::l]\n",
    "_x2,_y2 = x2[::l],y2[::l]\n",
    "_x3,_y3 = x3[::l],y3[::l]\n",
    "\n",
    "plot(_x1,_y1,'k--',label='n=1')\n",
    "plot(_x15,_y15,'k+',label='n=1.5')\n",
    "plot(_x2,_y2,'k.',color='r',label='n=2')\n",
    "plot(_x3,_y3,'k:',color='g',label='n=3')\n",
    "\n",
    "ylabel('$\\\\theta_n$')\n",
    "xlabel('$\\\\xi$')\n",
    "legend()"
   ]
  },
  {
   "cell_type": "code",
   "execution_count": 70,
   "metadata": {
    "collapsed": false
   },
   "outputs": [],
   "source": [
    "import pandas as pd\n",
    "\n",
    "cols = ['n', ' \\\\( \\\\xi_1 \\\\)', '\\\\( \\\\frac{d\\\\theta_n (\\\\xi_1)}{d\\\\xi} \\\\)']\n",
    "m = [[1,1.5,2,3],[x1[-1],x15[-1],x2[-1],x3[-1]],[z1[-1],z15[-1],z2[-1],z3[-1]]]\n",
    "m = np.array(m).transpose()\n",
    "\n",
    "\n",
    "m = pd.DataFrame(m,columns=cols)"
   ]
  },
  {
   "cell_type": "code",
   "execution_count": 71,
   "metadata": {
    "collapsed": false
   },
   "outputs": [
    {
     "name": "stdout",
     "output_type": "stream",
     "text": [
      "\\begin{tabular}{rrr}\n",
      "\\toprule\n",
      "   n &   \\( \\xi_1 \\) &  \\( \\frac{d\\theta_n (\\xi_1)}{d\\xi} \\) \\\\\n",
      "\\midrule\n",
      " 1.0 &      3.141501 &                             -0.318306 \\\\\n",
      " 1.5 &      3.653601 &                             -0.203305 \\\\\n",
      " 2.0 &      4.352801 &                             -0.127246 \\\\\n",
      " 3.0 &      6.896901 &                             -0.042428 \\\\\n",
      "\\bottomrule\n",
      "\\end{tabular}\n",
      "\n"
     ]
    }
   ],
   "source": [
    "print m.to_latex(escape=False,index=False)"
   ]
  },
  {
   "cell_type": "code",
   "execution_count": 62,
   "metadata": {
    "collapsed": false
   },
   "outputs": [
    {
     "data": {
      "text/html": [
       "<div>\n",
       "<table border=\"1\" class=\"dataframe\">\n",
       "  <thead>\n",
       "    <tr style=\"text-align: right;\">\n",
       "      <th></th>\n",
       "      <th>n</th>\n",
       "      <th>\\( \\xi_1 \\)</th>\n",
       "      <th>\\( \\frac{d\\theta_n (\\xi_1)}{d\\xi} \\)</th>\n",
       "    </tr>\n",
       "  </thead>\n",
       "  <tbody>\n",
       "    <tr>\n",
       "      <th>0</th>\n",
       "      <td>1.0</td>\n",
       "      <td>3.140001</td>\n",
       "      <td>-0.318306</td>\n",
       "    </tr>\n",
       "    <tr>\n",
       "      <th>1</th>\n",
       "      <td>1.5</td>\n",
       "      <td>3.650001</td>\n",
       "      <td>-0.203306</td>\n",
       "    </tr>\n",
       "    <tr>\n",
       "      <th>2</th>\n",
       "      <td>2.0</td>\n",
       "      <td>4.350001</td>\n",
       "      <td>-0.127246</td>\n",
       "    </tr>\n",
       "    <tr>\n",
       "      <th>3</th>\n",
       "      <td>3.0</td>\n",
       "      <td>6.890001</td>\n",
       "      <td>-0.042428</td>\n",
       "    </tr>\n",
       "  </tbody>\n",
       "</table>\n",
       "</div>"
      ],
      "text/plain": [
       "     n   \\( \\xi_1 \\)  \\( \\frac{d\\theta_n (\\xi_1)}{d\\xi} \\)\n",
       "0  1.0      3.140001                             -0.318306\n",
       "1  1.5      3.650001                             -0.203306\n",
       "2  2.0      4.350001                             -0.127246\n",
       "3  3.0      6.890001                             -0.042428"
      ]
     },
     "execution_count": 62,
     "metadata": {},
     "output_type": "execute_result"
    }
   ],
   "source": [
    "m"
   ]
  },
  {
   "cell_type": "markdown",
   "metadata": {},
   "source": [
    "## g. Eddington Mass"
   ]
  },
  {
   "cell_type": "code",
   "execution_count": 151,
   "metadata": {
    "collapsed": true
   },
   "outputs": [],
   "source": [
    "x,y,z = rk4(3,1e-4)\n",
    "x1 = x[-1]\n",
    "D = -x1**2.*z[-1]"
   ]
  },
  {
   "cell_type": "code",
   "execution_count": 67,
   "metadata": {
    "collapsed": true
   },
   "outputs": [],
   "source": [
    "# did this one in MKS out of habit\n",
    "G = 6.674e-11\n",
    "a = 7.5657e-16\n",
    "m = 1.67372e-27\n",
    "k = 1.3806e-23\n",
    "m_s = 1.98855e30\n",
    "m_edd = np.sqrt(  48*k**4 / (m**4 * G**3 * np.pi * a) ) * D_3"
   ]
  },
  {
   "cell_type": "code",
   "execution_count": 38,
   "metadata": {
    "collapsed": false
   },
   "outputs": [
    {
     "data": {
      "text/plain": [
       "17.99894694400281"
      ]
     },
     "execution_count": 38,
     "metadata": {},
     "output_type": "execute_result"
    }
   ],
   "source": [
    "m_edd / m_s"
   ]
  },
  {
   "cell_type": "markdown",
   "metadata": {},
   "source": [
    "## h. Solar parameters"
   ]
  },
  {
   "cell_type": "code",
   "execution_count": 3,
   "metadata": {
    "collapsed": false
   },
   "outputs": [],
   "source": [
    "x,y,z = rk4(3,1e-4)\n",
    "x1 = x[-1]\n",
    "D = -x1**2.*z[-1]"
   ]
  },
  {
   "cell_type": "code",
   "execution_count": 4,
   "metadata": {
    "collapsed": false
   },
   "outputs": [],
   "source": [
    "G = 6.674e-8 #cgs...\n",
    "R = 6.957e10\n",
    "M = 1.988e33\n",
    "T=5e6\n",
    "mu = 4./(.73*6+.25+2)\n",
    "\n",
    "k = 1.38e-16 \n",
    "s = 5.67e-5 \n",
    "c = 3e10\n",
    "a = 4*s/c\n",
    "mH = 1.6737e-24\n",
    "\n",
    "b = 1 - 4e-4\n",
    "\n",
    "K =((3/a)**(1./3.)) * ((k/mH)**(4./3.)) * (18.**(-2./3.))\n",
    "\n",
    "rho_c= ( np.sqrt((np.pi * G)/K) * (R/x1)  )**(-3.)\n",
    "\n",
    "P_c = (rho_c**(4./3.)) * K\n",
    "\n",
    "T_c = mu * b * mH *P_c / (rho_c * k)\n"
   ]
  },
  {
   "cell_type": "code",
   "execution_count": 5,
   "metadata": {
    "collapsed": false
   },
   "outputs": [
    {
     "data": {
      "text/plain": [
       "76.352293648772473"
      ]
     },
     "execution_count": 5,
     "metadata": {},
     "output_type": "execute_result"
    }
   ],
   "source": [
    "rho_c"
   ]
  },
  {
   "cell_type": "code",
   "execution_count": 6,
   "metadata": {
    "collapsed": false
   },
   "outputs": [
    {
     "data": {
      "text/plain": [
       "124.37016980748963"
      ]
     },
     "execution_count": 6,
     "metadata": {},
     "output_type": "execute_result"
    }
   ],
   "source": [
    "P_c / 1e15"
   ]
  },
  {
   "cell_type": "code",
   "execution_count": 7,
   "metadata": {
    "collapsed": false
   },
   "outputs": [
    {
     "data": {
      "text/plain": [
       "3.8396070170794974"
      ]
     },
     "execution_count": 7,
     "metadata": {},
     "output_type": "execute_result"
    }
   ],
   "source": [
    "K/1e14"
   ]
  },
  {
   "cell_type": "code",
   "execution_count": 8,
   "metadata": {
    "collapsed": false
   },
   "outputs": [
    {
     "data": {
      "text/plain": [
       "11.914213531864329"
      ]
     },
     "execution_count": 8,
     "metadata": {},
     "output_type": "execute_result"
    }
   ],
   "source": [
    "T_c / 1e6"
   ]
  },
  {
   "cell_type": "markdown",
   "metadata": {},
   "source": [
    "## i. Chandrasekhar Mass"
   ]
  },
  {
   "cell_type": "code",
   "execution_count": 27,
   "metadata": {
    "collapsed": true
   },
   "outputs": [],
   "source": [
    "Z_A = .5\n",
    "m_p = 1.67e-24\n",
    "h = 6.626e-27\n",
    "c=3e10\n",
    "M_sun = 1.99e33\n",
    "G = 6.674e-8\n",
    "\n",
    "x,y,z = rk4(3,1e-4)\n",
    "D = -x[-1]**2*z[-1]"
   ]
  },
  {
   "cell_type": "code",
   "execution_count": 28,
   "metadata": {
    "collapsed": true
   },
   "outputs": [],
   "source": [
    "K = (2 * np.pi * h * c) * (  3*Z_A   /  (8*np.pi*m_p)  )**(4./3.)\n",
    "M = D * 4 * np.pi * (K/(np.pi*G))**(3./2.)"
   ]
  },
  {
   "cell_type": "code",
   "execution_count": 29,
   "metadata": {
    "collapsed": false
   },
   "outputs": [
    {
     "data": {
      "text/plain": [
       "7.4835420520833251"
      ]
     },
     "execution_count": 29,
     "metadata": {},
     "output_type": "execute_result"
    }
   ],
   "source": [
    "M/M_sun # Off, again"
   ]
  },
  {
   "cell_type": "markdown",
   "metadata": {},
   "source": [
    "# 3 Minimum mass for hydrogen fusion"
   ]
  },
  {
   "cell_type": "markdown",
   "metadata": {},
   "source": [
    "## a"
   ]
  },
  {
   "cell_type": "code",
   "execution_count": 36,
   "metadata": {
    "collapsed": false
   },
   "outputs": [],
   "source": [
    "D = -x15[-1]**2. * z15[-1]\n",
    "x_1 = x15[-1]\n",
    "K = 1e13\n",
    "G = 6.674e-8\n",
    "M_sun = 1.99e33\n",
    "\n",
    "#R = x_1*K*(5./2)*D/(4*np.pi * G)\n",
    "\n",
    "R = (1./(4*np.pi * D))**(-1./3.) * (5*K/(8*np.pi*G)) * x_1"
   ]
  },
  {
   "cell_type": "code",
   "execution_count": 37,
   "metadata": {
    "collapsed": false
   },
   "outputs": [
    {
     "data": {
      "text/plain": [
       "2.8078970037965028"
      ]
     },
     "execution_count": 37,
     "metadata": {},
     "output_type": "execute_result"
    }
   ],
   "source": [
    "(R / (M_sun)**(1./3) ) / 1e9"
   ]
  },
  {
   "cell_type": "code",
   "execution_count": 38,
   "metadata": {
    "collapsed": false
   },
   "outputs": [
    {
     "data": {
      "text/plain": [
       "3.5318224723725812e+20"
      ]
     },
     "execution_count": 38,
     "metadata": {},
     "output_type": "execute_result"
    }
   ],
   "source": [
    "R"
   ]
  },
  {
   "cell_type": "markdown",
   "metadata": {},
   "source": [
    "## b"
   ]
  },
  {
   "cell_type": "code",
   "execution_count": 32,
   "metadata": {
    "collapsed": true
   },
   "outputs": [],
   "source": [
    "R_sun = 69.57e9\n",
    "m = .1 * M_sun\n",
    "R0 = 2.8e9 * (10)**(1./3.)\n",
    "R = .1 * R_sun\n",
    "\n",
    "eta = 1e-9 * 5e6 * (10.)**(4./3.) * (R/R0)**2"
   ]
  },
  {
   "cell_type": "code",
   "execution_count": 33,
   "metadata": {
    "collapsed": false
   },
   "outputs": [
    {
     "data": {
      "text/plain": [
       "0.143273085884531"
      ]
     },
     "execution_count": 33,
     "metadata": {},
     "output_type": "execute_result"
    }
   ],
   "source": [
    "eta"
   ]
  },
  {
   "cell_type": "markdown",
   "metadata": {},
   "source": [
    "## d"
   ]
  },
  {
   "cell_type": "code",
   "execution_count": 31,
   "metadata": {
    "collapsed": false
   },
   "outputs": [
    {
     "data": {
      "text/plain": [
       "0.042861606445481995"
      ]
     },
     "execution_count": 31,
     "metadata": {},
     "output_type": "execute_result"
    }
   ],
   "source": [
    "T_c = 3e6\n",
    "(T_c/ 2e8)**(3./4)"
   ]
  },
  {
   "cell_type": "code",
   "execution_count": null,
   "metadata": {
    "collapsed": true
   },
   "outputs": [],
   "source": []
  }
 ],
 "metadata": {
  "kernelspec": {
   "display_name": "Python 2",
   "language": "python",
   "name": "python2"
  },
  "language_info": {
   "codemirror_mode": {
    "name": "ipython",
    "version": 2
   },
   "file_extension": ".py",
   "mimetype": "text/x-python",
   "name": "python",
   "nbconvert_exporter": "python",
   "pygments_lexer": "ipython2",
   "version": "2.7.10"
  }
 },
 "nbformat": 4,
 "nbformat_minor": 0
}
